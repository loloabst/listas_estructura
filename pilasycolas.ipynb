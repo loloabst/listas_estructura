{
 "cells": [
  {
   "cell_type": "markdown",
   "metadata": {},
   "source": [
    "CLASE NODO"
   ]
  },
  {
   "cell_type": "code",
   "execution_count": null,
   "metadata": {},
   "outputs": [],
   "source": [
    "# Definimos la clase Nodo\n",
    "class Nodo:\n",
    "    def __init__(self, datos):\n",
    "        self.id = id(self)  # Identificador del nodo basado en su dirección de memoria\n",
    "        self.datos = datos  # Datos almacenados en el nodo\n",
    "        self.siguiente = None  # Puntero al siguiente nodo"
   ]
  },
  {
   "cell_type": "markdown",
   "metadata": {},
   "source": [
    "CLASE DE PILA\n"
   ]
  },
  {
   "cell_type": "code",
   "execution_count": 15,
   "metadata": {},
   "outputs": [],
   "source": [
    "# Definimos la clase Pila\n",
    "class Pila:\n",
    "    def __init__(self):\n",
    "        self.cabeza = None  # Nodo superior de la pila\n",
    "\n",
    "    # Método para verificar si la pila está vacía\n",
    "    def esta_vacia(self):\n",
    "        return self.cabeza == None\n",
    "\n",
    "    # Método para agregar un elemento a la pila\n",
    "    def push(self, datos):\n",
    "        if self.cabeza is None:\n",
    "            self.cabeza = Nodo(datos)\n",
    "        else:\n",
    "            nuevo_nodo = Nodo(datos)\n",
    "            nuevo_nodo.siguiente = self.cabeza\n",
    "            self.cabeza = nuevo_nodo\n",
    "\n",
    "    # Método para eliminar un elemento de la pila\n",
    "    def pop(self):\n",
    "        if self.esta_vacia():\n",
    "            return None\n",
    "        else:\n",
    "            nodo_eliminado = self.cabeza\n",
    "            self.cabeza = self.cabeza.siguiente\n",
    "            nodo_eliminado.siguiente = None\n",
    "            return nodo_eliminado.datos\n",
    "\n",
    "    # Método para ver el elemento superior de la pila sin eliminarlo\n",
    "    def peek(self):\n",
    "        if self.esta_vacia():\n",
    "            return None\n",
    "        else:\n",
    "            return self.cabeza.datos\n",
    "\n",
    "    # Método para buscar un nodo por su id\n",
    "    def buscar_por_id(self, id):\n",
    "        nodo_actual = self.cabeza\n",
    "        while nodo_actual is not None:\n",
    "            if nodo_actual.id == id:\n",
    "                return nodo_actual.datos\n",
    "            nodo_actual = nodo_actual.siguiente\n",
    "        return None\n",
    "\n",
    "    # Método para recorrer toda la pila e imprimir los datos de cada nodo\n",
    "    def recorrer_pila(self):\n",
    "        nodo_actual = self.cabeza\n",
    "        resultado = ''\n",
    "        while nodo_actual is not None:\n",
    "            resultado += str(nodo_actual.datos) + '|'\n",
    "            nodo_actual = nodo_actual.siguiente\n",
    "        return resultado.rstrip('|')  # Eliminar el último '|'\n",
    "\n"
   ]
  },
  {
   "cell_type": "markdown",
   "metadata": {},
   "source": [
    "CLASE DE COLA\n"
   ]
  },
  {
   "cell_type": "code",
   "execution_count": 35,
   "metadata": {},
   "outputs": [],
   "source": [
    "# Definimos la clase Cola\n",
    "class Cola:\n",
    "    def __init__(self):\n",
    "        self.cabeza = None  # Nodo al inicio de la cola\n",
    "        self.cola = None  # Nodo al final de la cola\n",
    "\n",
    "    # Método para verificar si la cola está vacía\n",
    "    def esta_vacia(self):\n",
    "        return self.cabeza == None\n",
    "\n",
    "    # Método para agregar un elemento a la cola \n",
    "    def enqueue(self, datos):\n",
    "        nuevo_nodo = Nodo(datos) \n",
    "        if self.cola is None:  \n",
    "            self.cabeza = nuevo_nodo  \n",
    "            self.cola = nuevo_nodo  \n",
    "        else: \n",
    "            self.cola.siguiente = nuevo_nodo  \n",
    "            self.cola = nuevo_nodo \n",
    "\n",
    "    # Método para eliminar un elemento de la cola (dequeue)\n",
    "    def dequeue(self):\n",
    "        if self.esta_vacia(): \n",
    "            return None\n",
    "        else:  \n",
    "            nodo_eliminado = self.cabeza \n",
    "            self.cabeza = self.cabeza.siguiente  \n",
    "            if self.cabeza is None:  \n",
    "                self.cola = None  \n",
    "            return nodo_eliminado.datos  \n",
    "\n",
    "    # Método para ver el elemento al inicio de la cola sin eliminarlo (peek)\n",
    "    def peek(self):\n",
    "        if self.esta_vacia(): \n",
    "            return None\n",
    "        else: \n",
    "            return self.cabeza.datos \n",
    "\n",
    "    # Método para buscar un nodo por su id\n",
    "    def buscar_por_id(self, id):\n",
    "        nodo_actual = self.cabeza  \n",
    "        while nodo_actual is not None:  \n",
    "            if nodo_actual.id == id:  \n",
    "                return nodo_actual.datos \n",
    "            nodo_actual = nodo_actual.siguiente  \n",
    "        return None\n",
    "\n",
    "    # Método para recorrer toda la cola e imprimir los datos de cada nodo\n",
    "    def recorrer_cola(self):\n",
    "        nodo_actual = self.cabeza\n",
    "        resultado = ''\n",
    "        while nodo_actual is not None:\n",
    "            resultado += str(nodo_actual.datos) + '|'\n",
    "            nodo_actual = nodo_actual.siguiente\n",
    "        return resultado.rstrip('|')  # Eliminar el último '|'\n"
   ]
  },
  {
   "cell_type": "markdown",
   "metadata": {},
   "source": [
    "            EJEMPLOS DE USO"
   ]
  },
  {
   "cell_type": "markdown",
   "metadata": {},
   "source": [
    "        para pila"
   ]
  },
  {
   "cell_type": "code",
   "execution_count": 30,
   "metadata": {},
   "outputs": [
    {
     "name": "stdout",
     "output_type": "stream",
     "text": [
      "True\n"
     ]
    }
   ],
   "source": [
    "# Crear una nueva pila\n",
    "mi_pila = Pila()\n",
    "\n",
    "# Verificar si la pila está vacía\n",
    "print(mi_pila.esta_vacia())  \n",
    "\n",
    "# Agregar elementos a la pila\n",
    "mi_pila.push(1)\n",
    "mi_pila.push(2)\n",
    "mi_pila.push(3)\n",
    "mi_pila.push(4)\n",
    "mi_pila.push(5)\n",
    "mi_pila.push(6)"
   ]
  },
  {
   "cell_type": "code",
   "execution_count": 31,
   "metadata": {},
   "outputs": [
    {
     "name": "stdout",
     "output_type": "stream",
     "text": [
      "False\n"
     ]
    },
    {
     "data": {
      "text/plain": [
       "'6|5|4|3|2|1'"
      ]
     },
     "execution_count": 31,
     "metadata": {},
     "output_type": "execute_result"
    }
   ],
   "source": [
    "# Verificar si la pila está vacía después de agregar elementos\n",
    "print(mi_pila.esta_vacia())  \n",
    "mi_pila.recorrer_pila()"
   ]
  },
  {
   "cell_type": "code",
   "execution_count": 32,
   "metadata": {},
   "outputs": [
    {
     "name": "stdout",
     "output_type": "stream",
     "text": [
      "6\n"
     ]
    },
    {
     "data": {
      "text/plain": [
       "'5|4|3|2|1'"
      ]
     },
     "execution_count": 32,
     "metadata": {},
     "output_type": "execute_result"
    }
   ],
   "source": [
    "# Eliminar elementos de la pila\n",
    "print(mi_pila.pop())  # Imprimir el ultimo dato ingresado\n",
    "mi_pila.recorrer_pila()"
   ]
  },
  {
   "cell_type": "markdown",
   "metadata": {},
   "source": [
    "Se cumple Last in, First out\n",
    "El numero 6 fue el ultimo que se ingresó"
   ]
  },
  {
   "cell_type": "code",
   "execution_count": 34,
   "metadata": {},
   "outputs": [
    {
     "data": {
      "text/plain": [
       "5"
      ]
     },
     "execution_count": 34,
     "metadata": {},
     "output_type": "execute_result"
    }
   ],
   "source": [
    "mi_pila.peek() # El ultimo elemento ingredsado"
   ]
  },
  {
   "cell_type": "markdown",
   "metadata": {},
   "source": [
    "        para cola"
   ]
  },
  {
   "cell_type": "code",
   "execution_count": 36,
   "metadata": {},
   "outputs": [
    {
     "name": "stdout",
     "output_type": "stream",
     "text": [
      "True\n",
      "False\n"
     ]
    }
   ],
   "source": [
    "#crear una nueva cola\n",
    "mi_cola = Cola()\n",
    "\n",
    "# Verificar si la cola está vacía\n",
    "print(mi_cola.esta_vacia())  # Debería imprimir: True\n",
    "\n",
    "# Agregar elementos a la cola\n",
    "mi_cola.enqueue(1)\n",
    "mi_cola.enqueue(2)\n",
    "mi_cola.enqueue(3)\n",
    "mi_cola.enqueue(4)\n",
    "mi_cola.enqueue(5)\n",
    "mi_cola.enqueue(6)\n",
    "\n",
    "# Verificar si la cola está vacía después de agregar elementos\n",
    "print(mi_cola.esta_vacia())"
   ]
  },
  {
   "cell_type": "code",
   "execution_count": 37,
   "metadata": {},
   "outputs": [
    {
     "name": "stdout",
     "output_type": "stream",
     "text": [
      "1\n"
     ]
    }
   ],
   "source": [
    "# Ver el elemento al inicio de la cola\n",
    "print(mi_cola.peek()) "
   ]
  },
  {
   "cell_type": "code",
   "execution_count": 38,
   "metadata": {},
   "outputs": [
    {
     "name": "stdout",
     "output_type": "stream",
     "text": [
      "1\n"
     ]
    }
   ],
   "source": [
    "# Eliminar elementos de la cola\n",
    "print(mi_cola.dequeue())"
   ]
  },
  {
   "cell_type": "code",
   "execution_count": 39,
   "metadata": {},
   "outputs": [
    {
     "data": {
      "text/plain": [
       "'2|3|4|5|6'"
      ]
     },
     "execution_count": 39,
     "metadata": {},
     "output_type": "execute_result"
    }
   ],
   "source": [
    "mi_cola.recorrer_cola()"
   ]
  },
  {
   "cell_type": "markdown",
   "metadata": {},
   "source": [
    "Se cumple First in, First out\n",
    "El numero 1 fue el primero que se ingresó"
   ]
  },
  {
   "cell_type": "code",
   "execution_count": 40,
   "metadata": {},
   "outputs": [
    {
     "data": {
      "text/plain": [
       "2"
      ]
     },
     "execution_count": 40,
     "metadata": {},
     "output_type": "execute_result"
    }
   ],
   "source": [
    "mi_cola.peek()"
   ]
  },
  {
   "cell_type": "code",
   "execution_count": null,
   "metadata": {},
   "outputs": [],
   "source": []
  }
 ],
 "metadata": {
  "kernelspec": {
   "display_name": "Python 3",
   "language": "python",
   "name": "python3"
  },
  "language_info": {
   "codemirror_mode": {
    "name": "ipython",
    "version": 3
   },
   "file_extension": ".py",
   "mimetype": "text/x-python",
   "name": "python",
   "nbconvert_exporter": "python",
   "pygments_lexer": "ipython3",
   "version": "3.11.5"
  },
  "orig_nbformat": 4
 },
 "nbformat": 4,
 "nbformat_minor": 2
}
