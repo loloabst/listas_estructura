{
 "cells": [
  {
   "cell_type": "markdown",
   "metadata": {},
   "source": [
    "listas simples"
   ]
  },
  {
   "cell_type": "code",
   "execution_count": 84,
   "metadata": {},
   "outputs": [],
   "source": [
    "class Nodo:\n",
    "  def __init__(self, valor):\n",
    "    self.valor = valor\n",
    "    self.siguiente = None\n",
    "\n",
    "#Definimos la clase ListaSimple, que tiene una referencia al primer nodo y un tamaño x\n",
    "class ListaLigadaSimple:\n",
    "  def __init__(self):\n",
    "    self.primero = None\n",
    "    self.tamaño = 0\n",
    "\n",
    "  #efinimos un método para insertar un valor al final de la lista\n",
    "  def insertar_final(self, valor):\n",
    "    #Creamos un nuevo nodo con el valor dado\n",
    "    nuevo_nodo = Nodo(valor)\n",
    "    #Si la lista está vacía. el nuevo nodo es el primero\n",
    "    if self.primero == None:\n",
    "      self.primero = nuevo_nodo\n",
    "    #Si no, recorremos la lista hasta encontrar el último nodo y le asignamos el nuevo nodo como siguiente\n",
    "    else:\n",
    "      actual = self.primero\n",
    "      while actual.siguiente != None:\n",
    "        actual = actual.siguiente\n",
    "      actual.siguiente = nuevo_nodo\n",
    "    #Incrementamos el tamaño de la lista\n",
    "    self.tamaño += 1\n",
    "\n",
    "  #Definimos un método para eliminar un valor de la lista por su índice\n",
    "  def eliminar_indice(self, indice):\n",
    "    #Si el índice es válido, es decir, está entre 0 y el tamaño de la lista menos uno\n",
    "    if indice >= 0 and indice < self.tamaño:\n",
    "      #Si el índice es cero, el primer nodo se elimina y el segundo pasa a ser el primero\n",
    "      if indice == 0:\n",
    "        self.primero = self.primero.siguiente\n",
    "      #Si no, recorremos la lista hasta encontrar el nodo anterior al que queremos eliminar y le asignamos como siguiente el siguiente del que queremos eliminar\n",
    "      else:\n",
    "        anterior = self.primero\n",
    "        for i in range(indice - 1):\n",
    "          anterior = anterior.siguiente\n",
    "        anterior.siguiente = anterior.siguiente.siguiente\n",
    "      #Decrementamos el tamaño de la lista\n",
    "      self.tamaño -= 1\n",
    "\n",
    "  #Definimos un método para obtener el valor de un nodo por su índice\n",
    "  def obtener_indice(self, indice):\n",
    "    # Si el índice es válido, es decir, está entre 0 y el tamaño de la lista menos uno\n",
    "    if indice >= 0 and indice < self.tamaño:\n",
    "      #Recorremos la lista hasta encontrar el nodo deseado y devolvemos su valor\n",
    "      actual = self.primero\n",
    "      for i in range(indice):\n",
    "        actual = actual.siguiente\n",
    "      return actual.valor\n",
    "\n",
    "  #Agregamos una función para recorrer e imprimir todos los valores de la lista \n",
    "  def recorrer(self): \n",
    "    # Si la lista está vacía, no hay nada que imprimir \n",
    "    if self.primero == None: \n",
    "      print(\"La lista está vacía\") \n",
    "    else: \n",
    "      #Recorremos la lista desde el primero hasta el final \n",
    "      actual = self.primero \n",
    "      while actual != None: \n",
    "        #Imprimimos el valor del nodo actual \n",
    "        print(actual.valor) \n",
    "        #Avanzamos al siguiente nodo \n",
    "        actual = actual.siguiente \n"
   ]
  },
  {
   "cell_type": "markdown",
   "metadata": {},
   "source": [
    "lista circular\n"
   ]
  },
  {
   "cell_type": "code",
   "execution_count": 85,
   "metadata": {},
   "outputs": [],
   "source": [
    "# Usamos la misma clase Nodo que antes\n",
    "class Nodo:\n",
    "  def __init__(self, valor):\n",
    "    self.valor = valor\n",
    "    self.siguiente = None\n",
    "\n",
    "# Modificamos la clase ListaLigadaSimple para crear una lista circular\n",
    "class ListaCircular:\n",
    "  def __init__(self):\n",
    "    self.primero = None\n",
    "    self.ultimo = None\n",
    "    self.tamaño = 0\n",
    "\n",
    "  #Modificamos el método para insertar un valor al final de la lista\n",
    "  def insertar_final(self, valor):\n",
    "    #Creamos un nuevo nodo con el valor dado\n",
    "    nuevo_nodo = Nodo(valor)\n",
    "    #Si la lista está vacía, el nuevo nodo es el primero y el último, y se apunta a sí mismo como siguiente\n",
    "    if self.primero == None:\n",
    "      self.primero = nuevo_nodo\n",
    "      self.ultimo = nuevo_nodo\n",
    "      nuevo_nodo.siguiente = nuevo_nodo\n",
    "    #Si no, el nuevo nodo es el siguiente del último y el primero es el siguiente del nuevo nodo, y el nuevo nodo pasa a ser el último\n",
    "    else:\n",
    "      self.ultimo.siguiente = nuevo_nodo\n",
    "      nuevo_nodo.siguiente = self.primero\n",
    "      self.ultimo = nuevo_nodo\n",
    "    #Incrementamos el tamaño de la lista\n",
    "    self.tamaño += 1\n",
    "\n",
    "  # Modificamos el método para eliminar un valor de la lista por su índice\n",
    "  def eliminar_indice(self, indice):\n",
    "    #Si el índice es válido, es decir, está entre 0 y el tamaño de la lista menos uno\n",
    "    if indice >= 0 and indice < self.tamaño:\n",
    "      #Si el índice es cero, el primer nodo se elimina y el segundo pasa a ser el primero, y el último apunta al nuevo primero como siguiente\n",
    "      if indice == 0:\n",
    "        self.primero = self.primero.siguiente\n",
    "        self.ultimo.siguiente = self.primero\n",
    "      #Si no, recorremos la lista hasta encontrar el nodo anterior al que queremos eliminar y le asignamos como siguiente el siguiente del que queremos eliminar\n",
    "      else:\n",
    "        anterior = self.primero\n",
    "        for i in range(indice - 1):\n",
    "          anterior = anterior.siguiente\n",
    "        anterior.siguiente = anterior.siguiente.siguiente\n",
    "      # Decrementamos el tamaño de la lista\n",
    "      self.tamaño -= 1\n",
    "\n",
    "  #Agregamos un método para recorrer e imprimir los valores de la lista\n",
    "  def recorrer(self, elementos):\n",
    "    #Creamos una variable auxiliar que apunte al primer nodo y un contador que empiece en cero\n",
    "    aux = self.primero\n",
    "    contador = 0\n",
    "    #Mientras el contador sea menor que el número de elementos a imprimir\n",
    "    while contador < elementos:\n",
    "      # Imprimimos el valor del nodo auxiliar y avanzamos al siguiente nodo, incrementando el contador en uno\n",
    "      print(aux.valor)\n",
    "      aux = aux.siguiente\n",
    "      contador += 1\n",
    "  #Definimos un método para obtener el valor de un nodo por su índice\n",
    "  def obtener_indice(self, indice):\n",
    "    #Si el índice es válido, es decir, está entre 0 y el tamaño de la lista menos uno\n",
    "    if indice >= 0 and indice < self.tamaño:\n",
    "      #Recorremos la lista hasta encontrar el nodo deseado y devolvemos su valor\n",
    "      actual = self.primero\n",
    "      for i in range(indice):\n",
    "        actual = actual.siguiente\n",
    "      return actual.valor\n",
    "\n",
    " "
   ]
  },
  {
   "cell_type": "markdown",
   "metadata": {},
   "source": [
    "lista doble"
   ]
  },
  {
   "cell_type": "code",
   "execution_count": 86,
   "metadata": {},
   "outputs": [],
   "source": [
    "class NodoDoble:\n",
    "  def __init__(self, valor):\n",
    "    self.valor = valor\n",
    "    self.anterior = None\n",
    "    self.siguiente = None\n",
    "class ListaDoble:\n",
    "  def __init__(self):\n",
    "    self.primero = None\n",
    "    self.ultimo = None\n",
    "    self.tamaño = 0\n",
    "  def insertar_final(self, valor):\n",
    "    nuevo_nodo = NodoDoble(valor)\n",
    "    #Si la lista está vacía, el nuevo nodo es el primero y el último\n",
    "    if self.primero == None:\n",
    "      self.primero = nuevo_nodo\n",
    "      self.ultimo = nuevo_nodo\n",
    "    #Si no, el nuevo nodo pasa a ser el último y el anterior último (apunta) al nuevo\n",
    "    else:\n",
    "      self.ultimo.siguiente = nuevo_nodo\n",
    "      nuevo_nodo.anterior = self.ultimo\n",
    "      self.ultimo = nuevo_nodo\n",
    "    #Se incrementa el tamaño de la lista\n",
    "    self.tamaño += 1\n",
    "  def eliminar_indice(self, indice):\n",
    "    #Si el índice es válido, se busca el nodo a eliminar\n",
    "    if indice >= 0 and indice < self.tamaño:\n",
    "      actual = self.primero\n",
    "      anterior = None\n",
    "      for i in range(indice):\n",
    "        anterior = actual\n",
    "        actual = actual.siguiente\n",
    "      #Si el índice es el primero. el primero pasa a ser el siguiente\n",
    "      if indice == 0:\n",
    "        self.primero = actual.siguiente\n",
    "      #Si el índice es el último. el último pasa a ser el anterior\n",
    "      elif indice == self.tamaño - 1:\n",
    "        self.ultimo = anterior\n",
    "      #Si no, se salta el nodo a eliminar enlazando el anterior con el siguiente\n",
    "      else:\n",
    "        anterior.siguiente = actual.siguiente\n",
    "        actual.siguiente.anterior = anterior\n",
    "      # Se baja el tamaño de la lista y se devuelve el valor del nodo eliminado\n",
    "      self.tamaño -= 1\n",
    "      return actual.valor\n",
    "\n",
    "  def recorrer(self):\n",
    "    #Se empieza por el primer nodo y se recorre la lista hasta llegar al último\n",
    "    actual = self.primero\n",
    "    while actual != None:\n",
    "      print(actual.valor)\n",
    "      actual = actual.siguiente\n",
    "\n",
    "  #Definimos un método para obtener el valor de un nodo por su índice\n",
    "  def obtener_indice(self, indice):\n",
    "    #Si el indice está entre 0 y el tamaño de la lista menos uno \n",
    "    if indice >= 0 and indice < self.tamaño:\n",
    "      #Recorremos la lista hasta encontrar el nodo deseado y devolvemos su valor\n",
    "      actual = self.primero\n",
    "      for i in range(indice):\n",
    "        actual = actual.siguiente\n",
    "      return actual.valor\n"
   ]
  },
  {
   "cell_type": "markdown",
   "metadata": {},
   "source": [
    "editar valores segun indice"
   ]
  },
  {
   "cell_type": "code",
   "execution_count": 87,
   "metadata": {},
   "outputs": [],
   "source": [
    "def editar_indice(self, indice, nuevo_valor): \n",
    "    #Si el indice está entre 0 y el tamaño de la lista menos uno \n",
    "    if indice >= 0 and indice < self.tamaño: \n",
    "      #Recorremos la lista hasta encontrar el nodo deseado y le asignamos el nuevo valor \n",
    "      actual = self.primero \n",
    "      for i in range(indice): \n",
    "        actual = actual.siguiente \n",
    "      actual.valor = nuevo_valor \n"
   ]
  },
  {
   "cell_type": "markdown",
   "metadata": {},
   "source": [
    "                            Ejemplos "
   ]
  },
  {
   "cell_type": "markdown",
   "metadata": {},
   "source": [
    "Ejemplos listas dobles"
   ]
  },
  {
   "cell_type": "code",
   "execution_count": 88,
   "metadata": {},
   "outputs": [
    {
     "name": "stdout",
     "output_type": "stream",
     "text": [
      "7\n",
      "8\n",
      "9\n",
      "__________\n"
     ]
    },
    {
     "data": {
      "text/plain": [
       "9"
      ]
     },
     "execution_count": 88,
     "metadata": {},
     "output_type": "execute_result"
    }
   ],
   "source": [
    "lista_doble = ListaDoble()\n",
    "lista_doble.insertar_final(7)\n",
    "lista_doble.insertar_final(8)\n",
    "lista_doble.insertar_final(9)\n",
    "lista_doble.recorrer()\n",
    "print(\"__________\")\n",
    "lista_doble.obtener_indice(2)"
   ]
  },
  {
   "cell_type": "code",
   "execution_count": 89,
   "metadata": {},
   "outputs": [
    {
     "name": "stdout",
     "output_type": "stream",
     "text": [
      "8\n",
      "9\n"
     ]
    }
   ],
   "source": [
    "lista_doble.eliminar_indice(0)\n",
    "lista_doble.recorrer()"
   ]
  },
  {
   "cell_type": "code",
   "execution_count": 90,
   "metadata": {},
   "outputs": [
    {
     "name": "stdout",
     "output_type": "stream",
     "text": [
      "1\n",
      "2\n",
      "3\n",
      "4\n",
      "5\n",
      "------------\n",
      "1\n",
      "44\n",
      "3\n",
      "4\n",
      "5\n"
     ]
    }
   ],
   "source": [
    "lista_doble = ListaDoble()\n",
    "for i in range(1, 6):\n",
    "  lista_doble.insertar_final(i)\n",
    "lista_doble.recorrer()\n",
    "print(\"------------\")\n",
    "editar_indice(lista_doble, 1, 44)\n",
    "lista_doble.recorrer()\n",
    "\n",
    "\n"
   ]
  },
  {
   "cell_type": "markdown",
   "metadata": {},
   "source": [
    "Lista circular"
   ]
  },
  {
   "cell_type": "code",
   "execution_count": 92,
   "metadata": {},
   "outputs": [
    {
     "name": "stdout",
     "output_type": "stream",
     "text": [
      "1\n",
      "2\n",
      "3\n",
      "4\n",
      "5\n",
      "1\n",
      "2\n",
      "3\n",
      "4\n",
      "5\n",
      "____________\n",
      "1\n",
      "2\n",
      "3\n",
      "33\n",
      "5\n"
     ]
    }
   ],
   "source": [
    "lista_circular = ListaCircular()\n",
    "for i in range(1, 6):\n",
    "  lista_circular.insertar_final(i)\n",
    "  # Se imprimirá 10 elementos aunque la lista es de menos elementos porque es circular\n",
    "lista_circular.recorrer(10)\n",
    "print(\"____________\")\n",
    "editar_indice(lista_circular, 3, 33)\n",
    "lista_circular.recorrer(5)\n",
    "\n",
    "\n"
   ]
  },
  {
   "cell_type": "code",
   "execution_count": 93,
   "metadata": {},
   "outputs": [
    {
     "name": "stdout",
     "output_type": "stream",
     "text": [
      "1\n",
      "2\n",
      "3\n",
      "5\n",
      "1\n",
      "2\n",
      "3\n",
      "5\n",
      "1\n",
      "2\n"
     ]
    }
   ],
   "source": [
    "lista_circular.eliminar_indice(3)\n",
    "lista_circular.recorrer(10)"
   ]
  },
  {
   "cell_type": "markdown",
   "metadata": {},
   "source": [
    "lista ligada simple"
   ]
  },
  {
   "cell_type": "code",
   "execution_count": 94,
   "metadata": {},
   "outputs": [
    {
     "name": "stdout",
     "output_type": "stream",
     "text": [
      "1\n",
      "2\n",
      "3\n",
      "4\n",
      "5\n",
      "____________\n",
      "1\n",
      "2\n",
      "3\n",
      "4\n",
      "hola\n"
     ]
    }
   ],
   "source": [
    "lista_ligada = ListaLigadaSimple()\n",
    "for i in range(1, 6):\n",
    "  lista_ligada.insertar_final(i)\n",
    "\n",
    "lista_ligada.recorrer()\n",
    "print(\"____________\")\n",
    "editar_indice(lista_ligada, 4, \"hola\")\n",
    "lista_ligada.recorrer()\n"
   ]
  },
  {
   "cell_type": "code",
   "execution_count": 95,
   "metadata": {},
   "outputs": [
    {
     "name": "stdout",
     "output_type": "stream",
     "text": [
      "1\n",
      "2\n",
      "3\n",
      "4\n"
     ]
    }
   ],
   "source": [
    "lista_ligada.eliminar_indice(4)\n",
    "lista_ligada.recorrer()"
   ]
  },
  {
   "cell_type": "code",
   "execution_count": null,
   "metadata": {},
   "outputs": [],
   "source": []
  }
 ],
 "metadata": {
  "kernelspec": {
   "display_name": "Python 3",
   "language": "python",
   "name": "python3"
  },
  "language_info": {
   "codemirror_mode": {
    "name": "ipython",
    "version": 3
   },
   "file_extension": ".py",
   "mimetype": "text/x-python",
   "name": "python",
   "nbconvert_exporter": "python",
   "pygments_lexer": "ipython3",
   "version": "3.11.5"
  },
  "orig_nbformat": 4
 },
 "nbformat": 4,
 "nbformat_minor": 2
}
